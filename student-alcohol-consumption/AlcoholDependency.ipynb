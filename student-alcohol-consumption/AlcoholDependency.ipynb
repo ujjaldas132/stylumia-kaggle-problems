{
 "cells": [
  {
   "cell_type": "code",
   "execution_count": 1,
   "metadata": {},
   "outputs": [],
   "source": [
    "import numpy as np\n",
    "import pandas as pd\n",
    "import matplotlib.pyplot as plt"
   ]
  },
  {
   "cell_type": "code",
   "execution_count": 2,
   "metadata": {},
   "outputs": [],
   "source": [
    "data1=pd.read_csv(\"student-mat.csv\")\n",
    "data2=pd.read_csv(\"student-por.csv\")\n",
    "#merging two data set\n",
    "data=data1.append(data2)\n",
    "#now reset the index column\n",
    "data=data.reset_index()"
   ]
  },
  {
   "cell_type": "code",
   "execution_count": 4,
   "metadata": {},
   "outputs": [
    {
     "data": {
      "text/plain": [
       "Index(['index', 'school', 'sex', 'age', 'address', 'famsize', 'Pstatus',\n",
       "       'Medu', 'Fedu', 'Mjob', 'Fjob', 'reason', 'guardian', 'traveltime',\n",
       "       'studytime', 'failures', 'schoolsup', 'famsup', 'paid', 'activities',\n",
       "       'nursery', 'higher', 'internet', 'romantic', 'famrel', 'freetime',\n",
       "       'goout', 'Dalc', 'Walc', 'health', 'absences', 'G1', 'G2', 'G3'],\n",
       "      dtype='object')"
      ]
     },
     "execution_count": 4,
     "metadata": {},
     "output_type": "execute_result"
    }
   ],
   "source": [
    "data.columns"
   ]
  },
  {
   "cell_type": "code",
   "execution_count": 12,
   "metadata": {},
   "outputs": [],
   "source": [
    "require=[ 'Dalc', 'Walc']\n",
    "x=data[require]\n",
    "x1=data1[require]\n",
    "x2=data2[require]\n",
    "#lets say the result depend upon 1*g1+1*g2+3*g3>>> out of 100 for standarization\n",
    "y=pd.DataFrame(data['G1']+data['G2']+(3*data['G3']),columns=['results'])\n",
    "y1=pd.DataFrame(data1['G1']+data1['G2']+(3*data1['G3']),columns=['results'])\n",
    "y2=pd.DataFrame(data2['G1']+data2['G2']+(3*data2['G3']),columns=['results'])"
   ]
  },
  {
   "cell_type": "markdown",
   "metadata": {},
   "source": [
    "has do something with the above code\n",
    "as after running each shell have to excute again this piece of code to execute other piece of code\n"
   ]
  },
  {
   "cell_type": "code",
   "execution_count": 7,
   "metadata": {},
   "outputs": [
    {
     "data": {
      "image/png": "[encoded data removed]",
      "text/plain": [
       "<matplotlib.figure.Figure at 0x1dbc1284fd0>"
      ]
     },
     "metadata": {},
     "output_type": "display_data"
    },
    {
     "name": "stdout",
     "output_type": "stream",
     "text": [
      "[56.485632183908045, 58.141678129298484, 53.17857142857143, 51.30769230769231, 53.85507246376812, 47.26923076923077]\n"
     ]
    },
    {
     "data": {
      "image/png": "[encoded data removed]",
      "text/plain": [
       "<matplotlib.figure.Figure at 0x1dbc12e3e48>"
      ]
     },
     "metadata": {},
     "output_type": "display_data"
    },
    {
     "name": "stdout",
     "output_type": "stream",
     "text": [
      "[52.868354430379746, 54.30072463768116, 48.08, 53.22222222222222, 52.61538461538461, 49.22222222222222]\n"
     ]
    },
    {
     "data": {
      "image/png": "[encoded data removed]",
      "text/plain": [
       "<matplotlib.figure.Figure at 0x1dbc13510f0>"
      ]
     },
     "metadata": {},
     "output_type": "display_data"
    },
    {
     "name": "stdout",
     "output_type": "stream",
     "text": [
      "[58.687211093990754, 60.492239467849224, 56.33884297520661, 50.294117647058826, 54.604651162790695, 46.23529411764706]\n"
     ]
    }
   ],
   "source": [
    "(m,n)=y.shape\n",
    "mean_mark=sum(y[\"results\"])/m\n",
    "#mean_mark\n",
    "count={}\n",
    "Dalc={}\n",
    "for i in range(m):\n",
    "    if x['Dalc'][i] in Dalc:\n",
    "        Dalc[x['Dalc'][i]].append(y['results'][i])\n",
    "        count[x['Dalc'][i]]+=1\n",
    "        \n",
    "    else:\n",
    "        Dalc[x['Dalc'][i]]=[y['results'][i]]\n",
    "        count[x['Dalc'][i]]=1\n",
    "        \n",
    "        \n",
    "temp1=[]\n",
    "temp2=[]\n",
    "for x in Dalc:\n",
    "    Dalc[x]=sum(Dalc[x])/count[x]\n",
    "    temp1.append(x)\n",
    "    temp2.append(Dalc[x])\n",
    "plt.figure()\n",
    "plt.bar(['Mean']+temp1,[mean_mark]+temp2)\n",
    "plt.show()\n",
    "print([mean_mark]+temp2)\n",
    "\n",
    "\n",
    "(m,n)=y1.shape\n",
    "mean_mark=sum(y1[\"results\"])/m\n",
    "#mean_mark\n",
    "count={}\n",
    "Dalc={}\n",
    "for i in range(m):\n",
    "    if x1['Dalc'][i] in Dalc:\n",
    "        Dalc[x1['Dalc'][i]].append(y1['results'][i])\n",
    "        count[x1['Dalc'][i]]+=1\n",
    "        \n",
    "    else:\n",
    "        Dalc[x1['Dalc'][i]]=[y1['results'][i]]\n",
    "        count[x1['Dalc'][i]]=1\n",
    "        \n",
    "        \n",
    "temp1=[]\n",
    "temp2=[]\n",
    "for x in Dalc:\n",
    "    Dalc[x]=sum(Dalc[x])/count[x]\n",
    "    temp1.append(x)\n",
    "    temp2.append(Dalc[x])\n",
    "plt.figure()\n",
    "plt.bar(['Mean']+temp1,[mean_mark]+temp2)\n",
    "plt.show()\n",
    "print([mean_mark]+temp2)\n",
    "\n",
    "\n",
    "(m,n)=y2.shape\n",
    "mean_mark=sum(y2[\"results\"])/m\n",
    "#mean_mark\n",
    "count={}\n",
    "Dalc={}\n",
    "for i in range(m):\n",
    "    if x2['Dalc'][i] in Dalc:\n",
    "        Dalc[x2['Dalc'][i]].append(y2['results'][i])\n",
    "        count[x2['Dalc'][i]]+=1\n",
    "        \n",
    "    else:\n",
    "        Dalc[x2['Dalc'][i]]=[y2['results'][i]]\n",
    "        count[x2['Dalc'][i]]=1\n",
    "        \n",
    "        \n",
    "temp1=[]\n",
    "temp2=[]\n",
    "for x in Dalc:\n",
    "    Dalc[x]=sum(Dalc[x])/count[x]\n",
    "    temp1.append(x)\n",
    "    temp2.append(Dalc[x])\n",
    "plt.figure()\n",
    "plt.bar(['Mean']+temp1,[mean_mark]+temp2)\n",
    "plt.show()\n",
    "print([mean_mark]+temp2)"
   ]
  },
  {
   "cell_type": "code",
   "execution_count": 10,
   "metadata": {},
   "outputs": [
    {
     "data": {
      "image/png": "[encoded data removed]",
      "text/plain": [
       "<matplotlib.figure.Figure at 0x1dbc100e9b0>"
      ]
     },
     "metadata": {},
     "output_type": "display_data"
    },
    {
     "name": "stdout",
     "output_type": "stream",
     "text": [
      "[56.485632183908045, 58.336683417085425, 56.295, 57.374468085106386, 52.391304347826086, 51.794520547945204]\n"
     ]
    },
    {
     "data": {
      "image/png": "[encoded data removed]",
      "text/plain": [
       "<matplotlib.figure.Figure at 0x1dbc1445da0>"
      ]
     },
     "metadata": {},
     "output_type": "display_data"
    },
    {
     "name": "stdout",
     "output_type": "stream",
     "text": [
      "[52.868354430379746, 54.437086092715234, 54.025, 52.129411764705885, 48.80392156862745, 50.75]\n"
     ]
    },
    {
     "data": {
      "image/png": "[encoded data removed]",
      "text/plain": [
       "<matplotlib.figure.Figure at 0x1dbc2474d30>"
      ]
     },
     "metadata": {},
     "output_type": "display_data"
    },
    {
     "name": "stdout",
     "output_type": "stream",
     "text": [
      "[58.687211093990754, 60.72064777327935, 57.80833333333333, 60.346666666666664, 54.49425287356322, 52.44444444444444]\n"
     ]
    }
   ],
   "source": [
    "(m,n)=y.shape\n",
    "mean_mark=sum(y[\"results\"])/m\n",
    "#mean_mark\n",
    "count={}\n",
    "Dalc={}\n",
    "for i in range(m):\n",
    "    if x['Walc'][i] in Dalc:\n",
    "        Dalc[x['Walc'][i]].append(y['results'][i])\n",
    "        count[x['Walc'][i]]+=1\n",
    "        \n",
    "    else:\n",
    "        Dalc[x['Walc'][i]]=[y['results'][i]]\n",
    "        count[x['Walc'][i]]=1\n",
    "        \n",
    "        \n",
    "temp1=[]\n",
    "temp2=[]\n",
    "for x in Dalc:\n",
    "    Dalc[x]=sum(Dalc[x])/count[x]\n",
    "    temp1.append(x)\n",
    "    temp2.append(Dalc[x])\n",
    "plt.figure()\n",
    "plt.bar(['Mean']+temp1,[mean_mark]+temp2)\n",
    "plt.show()\n",
    "print([mean_mark]+temp2)\n",
    "\n",
    "\n",
    "(m,n)=y1.shape\n",
    "mean_mark=sum(y1[\"results\"])/m\n",
    "#mean_mark\n",
    "count={}\n",
    "Dalc={}\n",
    "for i in range(m):\n",
    "    if x1['Walc'][i] in Dalc:\n",
    "        Dalc[x1['Walc'][i]].append(y1['results'][i])\n",
    "        count[x1['Walc'][i]]+=1\n",
    "        \n",
    "    else:\n",
    "        Dalc[x1['Walc'][i]]=[y1['results'][i]]\n",
    "        count[x1['Walc'][i]]=1\n",
    "        \n",
    "        \n",
    "temp1=[]\n",
    "temp2=[]\n",
    "for x in Dalc:\n",
    "    Dalc[x]=sum(Dalc[x])/count[x]\n",
    "    temp1.append(x)\n",
    "    temp2.append(Dalc[x])\n",
    "plt.figure()\n",
    "plt.bar(['Mean']+temp1,[mean_mark]+temp2)\n",
    "plt.show()\n",
    "print([mean_mark]+temp2)\n",
    "\n",
    "\n",
    "(m,n)=y2.shape\n",
    "mean_mark=sum(y2[\"results\"])/m\n",
    "#mean_mark\n",
    "count={}\n",
    "Dalc={}\n",
    "for i in range(m):\n",
    "    if x2['Walc'][i] in Dalc:\n",
    "        Dalc[x2['Walc'][i]].append(y2['results'][i])\n",
    "        count[x2['Walc'][i]]+=1\n",
    "        \n",
    "    else:\n",
    "        Dalc[x2['Walc'][i]]=[y2['results'][i]]\n",
    "        count[x2['Walc'][i]]=1\n",
    "        \n",
    "        \n",
    "temp1=[]\n",
    "temp2=[]\n",
    "for x in Dalc:\n",
    "    Dalc[x]=sum(Dalc[x])/count[x]\n",
    "    temp1.append(x)\n",
    "    temp2.append(Dalc[x])\n",
    "plt.figure()\n",
    "plt.bar(['Mean']+temp1,[mean_mark]+temp2)\n",
    "plt.show()\n",
    "print([mean_mark]+temp2)"
   ]
  },
  {
   "cell_type": "code",
   "execution_count": 31,
   "metadata": {},
   "outputs": [
    {
     "data": {
      "text/plain": [
       "{}"
      ]
     },
     "execution_count": 31,
     "metadata": {},
     "output_type": "execute_result"
    }
   ],
   "source": [
    "Dalc"
   ]
  },
  {
   "cell_type": "code",
   "execution_count": 13,
   "metadata": {},
   "outputs": [
    {
     "name": "stderr",
     "output_type": "stream",
     "text": [
      "C:\\Users\\ujjal\\Anaconda3\\lib\\site-packages\\ipykernel_launcher.py:11: DataConversionWarning: A column-vector y was passed when a 1d array was expected. Please change the shape of y to (n_samples,), for example using ravel().\n",
      "  # This is added back by InteractiveShellApp.init_path()\n"
     ]
    },
    {
     "data": {
      "text/plain": [
       "0.023923444976076555"
      ]
     },
     "execution_count": 13,
     "metadata": {},
     "output_type": "execute_result"
    }
   ],
   "source": [
    "#now we get X and y for our model\n",
    "# now we have to import for \n",
    "from sklearn.ensemble import RandomForestClassifier\n",
    "from sklearn.model_selection import train_test_split\n",
    "from sklearn import metrics\n",
    "\n",
    "\n",
    "\n",
    "X_train, X_test, y_train, y_test = train_test_split(x, y, test_size=0.20, random_state=42)\n",
    "forest = RandomForestClassifier(n_estimators = 100)\n",
    "forest = forest.fit(X_train, y_train)\n",
    "forest.score(X_train, y_train)\n",
    "y_pred = forest.predict(X_test)\n",
    "acc_test = metrics.accuracy_score(y_test,y_pred)\n",
    "acc_test"
   ]
  },
  {
   "cell_type": "code",
   "execution_count": 14,
   "metadata": {},
   "outputs": [
    {
     "name": "stdout",
     "output_type": "stream",
     "text": [
      "         importance\n",
      "feature            \n",
      "Walc           0.53\n",
      "Dalc           0.47\n"
     ]
    },
    {
     "data": {
      "text/plain": [
       "<matplotlib.axes._subplots.AxesSubplot at 0x1dbc2f52470>"
      ]
     },
     "execution_count": 14,
     "metadata": {},
     "output_type": "execute_result"
    },
    {
     "data": {
      "image/png": "[encoded data removed]",
      "text/plain": [
       "<matplotlib.figure.Figure at 0x1dbc2f894e0>"
      ]
     },
     "metadata": {},
     "output_type": "display_data"
    }
   ],
   "source": [
    "importances = pd.DataFrame({'feature':X_train.columns,'importance':np.round(forest.feature_importances_,3)})\n",
    "importances = importances.sort_values('importance',ascending=False).set_index('feature')\n",
    "print (importances)\n",
    "importances.plot.bar()"
   ]
  },
  {
   "cell_type": "code",
   "execution_count": null,
   "metadata": {},
   "outputs": [],
   "source": []
  }
 ],
 "metadata": {
  "kernelspec": {
   "display_name": "Python 3",
   "language": "python",
   "name": "python3"
  },
  "language_info": {
   "codemirror_mode": {
    "name": "ipython",
    "version": 3
   },
   "file_extension": ".py",
   "mimetype": "text/x-python",
   "name": "python",
   "nbconvert_exporter": "python",
   "pygments_lexer": "ipython3",
   "version": "3.6.4"
  }
 },
 "nbformat": 4,
 "nbformat_minor": 2
}
