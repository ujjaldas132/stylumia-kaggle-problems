{
 "cells": [
  {
   "cell_type": "code",
   "execution_count": 1,
   "metadata": {},
   "outputs": [],
   "source": [
    "import numpy as np\n",
    "import pandas as pd\n",
    "import matplotlib.pyplot as plt"
   ]
  },
  {
   "cell_type": "code",
   "execution_count": 2,
   "metadata": {},
   "outputs": [],
   "source": [
    "data1=pd.read_csv(\"student-mat.csv\")\n",
    "data2=pd.read_csv(\"student-por.csv\")\n",
    "#merging two data set\n",
    "data=data1.append(data2)\n",
    "#now reset the index column\n",
    "data=data.reset_index()"
   ]
  },
  {
   "cell_type": "code",
   "execution_count": 30,
   "metadata": {},
   "outputs": [
    {
     "data": {
      "text/plain": [
       "Index(['school', 'sex', 'age', 'address', 'famsize', 'Pstatus', 'Medu', 'Fedu',\n",
       "       'Mjob', 'Fjob', 'reason', 'guardian', 'traveltime', 'studytime',\n",
       "       'failures', 'schoolsup', 'famsup', 'paid', 'activities', 'nursery',\n",
       "       'higher', 'internet', 'romantic', 'famrel', 'freetime', 'goout', 'Dalc',\n",
       "       'Walc', 'health', 'absences', 'G1', 'G2', 'G3'],\n",
       "      dtype='object')"
      ]
     },
     "execution_count": 30,
     "metadata": {},
     "output_type": "execute_result"
    }
   ],
   "source": [
    "data.columns\n"
   ]
  },
  {
   "cell_type": "markdown",
   "metadata": {},
   "source": [
    "COLUMNS INFO\n",
    "_____________________________\n",
    "\n",
    "school>>Student's school (binary: 'GP' - Gabriel Pereira or 'MS' - Mousinho da Silveira)\n",
    "sex>>Student's sex (binary: 'F' - female or 'M' - male)\n",
    "age>>Student's age (numeric: from 15 to 22)\n",
    "address>>Student's home address type (binary: 'U' - urban or 'R' - rural)\n",
    "famsize>>Family size (binary: 'LE3' - less or equal to 3 or 'GT3' - greater than 3)\n",
    "Pstatus>>Parent's cohabitation status (binary: 'T' - living together or 'A' - living apart)\n",
    "Medu>>Mother's education (numeric: 0 - none, 1 - primary education (4th grade), 2 - 5th to 9th grade, 3 - secondary education, or 4 - higher education)\n",
    "Fedu>>Father's education (numeric: 0 - none, 1 - primary education (4th grade), 2 - 5th to 9th grade, 3 - secondary education, or 4 - higher education)\n",
    "Mjob>>Mother's job (nominal: 'teacher', 'health' care related, civil 'services' (e.g. administrative or police), 'at_home' or 'other')\n",
    "Fjob>>Father's job (nominal: 'teacher', 'health' care related, civil 'services' (e.g. administrative or police), 'at_home' or 'other')\n",
    "reason>>Reason to choose this school (nominal: close to 'home', school 'reputation', 'course' preference or 'other')\n",
    "guardian>>Student's guardian (nominal: 'mother', 'father' or 'other')\n",
    "traveltime>>Home to school travel time (numeric: 1 - <15 min., 2 - 15 to 30 min., 3 - 30 min. to 1 hour, or 4 - >1 hour)\n",
    "\n",
    "studytime>>Weekly study time (numeric: 1 - <2 hours, 2 - 2 to 5 hours, 3 - 5 to 10 hours, or 4 - >10 hours)\n",
    "\n",
    "failures>>Number of past class failures (numeric: n if 1<=n<3, else 4)\n",
    "\n",
    "schoolsup>>Extra educational support (binary: yes or no)\n",
    "\n",
    "famsup>>Family educational support (binary: yes or no)\n",
    "\n",
    "paid>>Extra paid classes within the course subject (Math or Portuguese) (binary: yes or no)\n",
    "\n",
    "activities>>Extra-curricular activities (binary: yes or no)\n",
    "\n",
    "nursery>>Attended nursery school (binary: yes or no)\n",
    "\n",
    "higher>>Wants to take higher education (binary: yes or no)\n",
    "\n",
    "internet>>Internet access at home (binary: yes or no)\n",
    "\n",
    "romantic>>With a romantic relationship (binary: yes or no)\n",
    "\n",
    "famrel>>Quality of family relationships (numeric: from 1 - very bad to 5 - excellent)\n",
    "\n",
    "freetime>>Free time after school (numeric: from 1 - very low to 5 - very high)\n",
    "\n",
    "goout>>Going out with friends (numeric: from 1 - very low to 5 - very high)\n",
    "\n",
    "Dalc>>Workday alcohol consumption (numeric: from 1 - very low to 5 - very high)\n",
    "\n",
    "Walc>>Weekend alcohol consumption (numeric: from 1 - very low to 5 - very high)\n",
    "\n",
    "health>>Current health status (numeric: from 1 - very bad to 5 - very good)\n",
    "\n",
    "absences>>Number of school absences (numeric: from 0 to 93)\n",
    "\n",
    "G1>>First period grade (numeric: from 0 to 20)\n",
    "\n",
    "G2>>Second period grade (numeric: from 0 to 20)\n",
    "\n",
    "G3>>Final grade (numeric: from 0 to 20, output target)\n",
    "student-mat.csv (41 KB)\n",
    "20 of 33 columns\n",
    "\n",
    "school\n",
    "Student's school (binary: 'GP' - Gabriel Pereira or 'MS' - Mousinho da Silveira)\n",
    "\n",
    "sex\n",
    "Student's sex (binary: 'F' - female or 'M' - male)\n",
    "\n",
    "age\n",
    "Student's age (numeric: from 15 to 22)\n",
    "\n",
    "address\n",
    "Student's home address type (binary: 'U' - urban or 'R' - rural)\n",
    "\n",
    "famsize\n",
    "Family size (binary: 'LE3' - less or equal to 3 or 'GT3' - greater than 3)\n",
    "\n",
    "Pstatus\n",
    "Parent's cohabitation status (binary: 'T' - living together or 'A' - living apart)\n",
    "\n",
    "Medu\n",
    "Mother's education (numeric: 0 - none, 1 - primary education (4th grade), 2 - 5th to 9th grade, 3 - secondary education, or 4 - higher education)\n",
    "\n",
    "Fedu\n",
    "Father's education (numeric: 0 - none, 1 - primary education (4th grade), 2 - 5th to 9th grade, 3 - secondary education, or 4 - higher education)\n",
    "\n",
    "Mjob\n",
    "Mother's job (nominal: 'teacher', 'health' care related, civil 'services' (e.g. administrative or police), 'at_home' or 'other')\n",
    "\n",
    "Fjob\n",
    "Father's job (nominal: 'teacher', 'health' care related, civil 'services' (e.g. administrative or police), 'at_home' or 'other')\n",
    "\n",
    "reason\n",
    "Reason to choose this school (nominal: close to 'home', school 'reputation', 'course' preference or 'other')\n",
    "\n",
    "guardian\n",
    "Student's guardian (nominal: 'mother', 'father' or 'other')\n",
    "\n",
    "traveltime\n",
    "Home to school travel time (numeric: 1 - <15 min., 2 - 15 to 30 min., 3 - 30 min. to 1 hour, or 4 - >1 hour)\n",
    "\n",
    "studytime\n",
    "Weekly study time (numeric: 1 - <2 hours, 2 - 2 to 5 hours, 3 - 5 to 10 hours, or 4 - >10 hours)\n",
    "\n",
    "failures\n",
    "Number of past class failures (numeric: n if 1<=n<3, else 4)\n",
    "\n",
    "schoolsup\n",
    "Extra educational support (binary: yes or no)\n",
    "\n",
    "famsup\n",
    "Family educational support (binary: yes or no)\n",
    "\n",
    "paid\n",
    "Extra paid classes within the course subject (Math or Portuguese) (binary: yes or no)\n",
    "\n",
    "activities\n",
    "Extra-curricular activities (binary: yes or no)\n",
    "\n",
    "nursery\n",
    "Attended nursery school (binary: yes or no)\n",
    "GP\n",
    "88%\n",
    "MS\n",
    "12%"
   ]
  },
  {
   "cell_type": "code",
   "execution_count": 57,
   "metadata": {},
   "outputs": [],
   "source": [
    "#how relationship effect the result\n",
    "#so lets take the columns fsize Pstatus romantic famrel\n",
    "require=[ 'Pstatus', 'romantic', 'famrel']\n",
    "x=data[require]\n",
    "x1=data1[require]\n",
    "x2=data2[require]\n",
    "#lets say the result depend upon 1*g1+1*g2+3*g3>>> out of 100 for standarization\n",
    "y=pd.DataFrame(data['G1']+data['G2']+(3*data['G3']),columns=['results'])\n",
    "y1=pd.DataFrame(data1['G1']+data1['G2']+(3*data1['G3']),columns=['results'])\n",
    "y2=pd.DataFrame(data2['G1']+data2['G2']+(3*data2['G3']),columns=['results'])\n"
   ]
  },
  {
   "cell_type": "code",
   "execution_count": 43,
   "metadata": {},
   "outputs": [
    {
     "name": "stdout",
     "output_type": "stream",
     "text": [
      "\n",
      " mean marks of the students== 56.485632183908045 \n",
      " mean mark of student not in roamntic relationship== 57.69390787518574 \n",
      " mean marks of the students in romantic relationship= 54.293800539083556\n",
      "\n",
      " mean marks of the students== 52.868354430379746 \n",
      " mean mark of student not in roamntic relationship== 54.5171102661597 \n",
      " mean marks of the students in romantic relationship= 49.583333333333336\n",
      "\n",
      " mean marks of the students== 58.687211093990754 \n",
      " mean mark of student not in roamntic relationship== 59.73170731707317 \n",
      " mean marks of the students in romantic relationship= 56.89539748953975\n"
     ]
    }
   ],
   "source": [
    "# now visulise how studens perform wrt to the contrains\n",
    "(m,n)=y.shape\n",
    "mean_mark=sum(y[\"results\"])/m\n",
    "#mean_mark\n",
    "count=0\n",
    "romantic=[[],[]]\n",
    "for i in range(m):\n",
    "    if x['romantic'][i]=='yes':\n",
    "        romantic[1].append(y['results'][i])\n",
    "        count+=1\n",
    "    else:\n",
    "        romantic[0].append(y['results'][i])\n",
    "romantic=[sum(romantic[0])/(m-count),sum(romantic[1])/count]\n",
    "print(\"\\n mean marks of the students==\",mean_mark,\"\\n mean mark of student not in roamntic relationship==\",romantic[0],\"\\n mean marks of the students in romantic relationship=\",romantic[1])\n",
    "\n",
    "\n",
    "# now visulise how studens perform wrt to the contrains\n",
    "(m,n)=y1.shape\n",
    "mean_mark=sum(y1[\"results\"])/m\n",
    "#mean_mark\n",
    "count=0\n",
    "romantic=[[],[]]\n",
    "for i in range(m):\n",
    "    if x1['romantic'][i]=='yes':\n",
    "        romantic[1].append(y1['results'][i])\n",
    "        count+=1\n",
    "    else:\n",
    "        romantic[0].append(y1['results'][i])\n",
    "romantic=[sum(romantic[0])/(m-count),sum(romantic[1])/count]\n",
    "print(\"\\n mean marks of the students==\",mean_mark,\"\\n mean mark of student not in roamntic relationship==\",romantic[0],\"\\n mean marks of the students in romantic relationship=\",romantic[1])\n",
    "\n",
    "\n",
    "# now visulise how studens perform wrt to the contrains\n",
    "(m,n)=y2.shape\n",
    "mean_mark=sum(y2[\"results\"])/m\n",
    "#mean_mark\n",
    "count=0\n",
    "romantic=[[],[]]\n",
    "for i in range(m):\n",
    "    if x2['romantic'][i]=='yes':\n",
    "        romantic[1].append(y2['results'][i])\n",
    "        count+=1\n",
    "    else:\n",
    "        romantic[0].append(y2['results'][i])\n",
    "romantic=[sum(romantic[0])/(m-count),sum(romantic[1])/count]\n",
    "print(\"\\n mean marks of the students==\",mean_mark,\"\\n mean mark of student not in roamntic relationship==\",romantic[0],\"\\n mean marks of the students in romantic relationship=\",romantic[1])"
   ]
  },
  {
   "cell_type": "code",
   "execution_count": 46,
   "metadata": {},
   "outputs": [
    {
     "name": "stdout",
     "output_type": "stream",
     "text": [
      "\n",
      " mean marks of the students== 56.485632183908045 \n",
      " mean mark of student whose parents are living together== 56.344528710725896 \n",
      " mean marks of the students whose parents are living apart= 57.56198347107438\n",
      "\n",
      " mean marks of the students== 52.868354430379746 \n",
      " mean mark of student whose parents are living together== 52.52542372881356 \n",
      " mean marks of the students whose parents are living apart= 55.829268292682926\n",
      "\n",
      " mean marks of the students== 58.687211093990754 \n",
      " mean mark of student whose parents are living together== 58.72056239015817 \n",
      " mean marks of the students whose parents are living apart= 58.45\n"
     ]
    }
   ],
   "source": [
    "(m,n)=y.shape\n",
    "count=0\n",
    "mean_mark=sum(y[\"results\"])/m\n",
    "Pstatus=[[],[]]\n",
    "for i in range(m):\n",
    "    if x['Pstatus'][i]=='A':\n",
    "        Pstatus[1].append(y['results'][i])\n",
    "        count+=1\n",
    "    else:\n",
    "        Pstatus[0].append(y['results'][i])\n",
    "Pstatus=[sum(Pstatus[0])/(m-count),sum(Pstatus[1])/count]\n",
    "print(\"\\n mean marks of the students==\",mean_mark,\"\\n mean mark of student whose parents are living together==\",Pstatus[0],\"\\n mean marks of the students whose parents are living apart=\",Pstatus[1])\n",
    "\n",
    "(m,n)=y1.shape\n",
    "count=0\n",
    "mean_mark=sum(y1[\"results\"])/m\n",
    "Pstatus=[[],[]]\n",
    "for i in range(m):\n",
    "    if x1['Pstatus'][i]=='A':\n",
    "        Pstatus[1].append(y1['results'][i])\n",
    "        count+=1\n",
    "    else:\n",
    "        Pstatus[0].append(y1['results'][i])\n",
    "Pstatus=[sum(Pstatus[0])/(m-count),sum(Pstatus[1])/count]\n",
    "print(\"\\n mean marks of the students==\",mean_mark,\"\\n mean mark of student whose parents are living together==\",Pstatus[0],\"\\n mean marks of the students whose parents are living apart=\",Pstatus[1])\n",
    "\n",
    "\n",
    "(m,n)=y2.shape\n",
    "count=0\n",
    "mean_mark=sum(y2[\"results\"])/m\n",
    "Pstatus=[[],[]]\n",
    "for i in range(m):\n",
    "    if x2['Pstatus'][i]=='A':\n",
    "        Pstatus[1].append(y2['results'][i])\n",
    "        count+=1\n",
    "    else:\n",
    "        Pstatus[0].append(y2['results'][i])\n",
    "Pstatus=[sum(Pstatus[0])/(m-count),sum(Pstatus[1])/count]\n",
    "print(\"\\n mean marks of the students==\",mean_mark,\"\\n mean mark of student whose parents are living together==\",Pstatus[0],\"\\n mean marks of the students whose parents are living apart=\",Pstatus[1])"
   ]
  },
  {
   "cell_type": "code",
   "execution_count": 47,
   "metadata": {},
   "outputs": [
    {
     "name": "stdout",
     "output_type": "stream",
     "text": [
      "mean marks of the students== 56.485632183908045 \n",
      " mean mark of student whose family relationship is 1== 53.0 \n",
      " mean mark of student whose family relationship is 2== 53.319148936170215 \n",
      " mean mark of student whose family relationship is 3== 54.76331360946745 \n",
      " mean mark of student whose family relationship is 4== 95.31952662721893 \n",
      " mean mark of student whose family relationship is 5== 56.32517482517483\n"
     ]
    },
    {
     "data": {
      "image/png": "[encoded data removed]",
      "text/plain": [
       "<matplotlib.figure.Figure at 0x201d2ed76d8>"
      ]
     },
     "metadata": {},
     "output_type": "display_data"
    },
    {
     "name": "stdout",
     "output_type": "stream",
     "text": [
      "mean marks of the students== 52.868354430379746 \n",
      " mean mark of student whose family relationship is 1== 54.125 \n",
      " mean mark of student whose family relationship is 2== 52.111111111111114 \n",
      " mean mark of student whose family relationship is 3== 51.25 \n",
      " mean mark of student whose family relationship is 4== 84.52941176470588 \n",
      " mean mark of student whose family relationship is 5== 54.22641509433962\n"
     ]
    },
    {
     "data": {
      "image/png": "[encoded data removed]",
      "text/plain": [
       "<matplotlib.figure.Figure at 0x201d1d5d898>"
      ]
     },
     "metadata": {},
     "output_type": "display_data"
    },
    {
     "name": "stdout",
     "output_type": "stream",
     "text": [
      "mean marks of the students== 58.687211093990754 \n",
      " mean mark of student whose family relationship is 1== 52.59090909090909 \n",
      " mean mark of student whose family relationship is 2== 54.06896551724138 \n",
      " mean mark of student whose family relationship is 3== 57.12871287128713 \n",
      " mean mark of student whose family relationship is 4== 102.58415841584159 \n",
      " mean mark of student whose family relationship is 5== 57.56111111111111\n"
     ]
    },
    {
     "data": {
      "image/png": "[encoded data removed]",
      "text/plain": [
       "<matplotlib.figure.Figure at 0x201d300ceb8>"
      ]
     },
     "metadata": {},
     "output_type": "display_data"
    }
   ],
   "source": [
    "\n",
    "#mean_mark\n",
    "(m,n)=y.shape\n",
    "mean_mark=sum(y[\"results\"])/m\n",
    "count1=0\n",
    "count2=0\n",
    "count3=0\n",
    "count4=0\n",
    "count5=0\n",
    "famrel=[[],[],[],[],[]]\n",
    "for i in range(m):\n",
    "    if x['famrel'][i]==1:\n",
    "        famrel[0].append(y['results'][i])\n",
    "        count1+=1\n",
    "    elif x['famrel'][i]==2:\n",
    "        famrel[1].append(y['results'][i])\n",
    "        count2+=1\n",
    "    elif x['famrel'][i]==3:\n",
    "        famrel[2].append(y['results'][i])\n",
    "        count3+=1\n",
    "    elif x['famrel'][i]==4:\n",
    "        famrel[3].append(y['results'][i])\n",
    "        count4+=1\n",
    "    else:\n",
    "        famrel[4].append(y['results'][i])\n",
    "        count5+=1\n",
    "famrel=[sum(famrel[0])/(count1),sum(famrel[1])/count2,sum(famrel[2])/count3,sum(famrel[4])/count3,sum(famrel[4])/count5]\n",
    "print(\"mean marks of the students==\",mean_mark,\n",
    "      \"\\n mean mark of student whose family relationship is 1==\",famrel[0],\"\\n mean mark of student whose family relationship is 2==\",famrel[1]\n",
    "      ,\"\\n mean mark of student whose family relationship is 3==\",famrel[2],\"\\n mean mark of student whose family relationship is 4==\",famrel[3]\n",
    "      ,\"\\n mean mark of student whose family relationship is 5==\",famrel[4])\n",
    "plt.figure()\n",
    "plt.bar(['mean',\"famrel=1\",\"famrel=2\",\"famrel=3\",\"famrel=4\",\"famrel=5\"],[mean_mark]+famrel)\n",
    "plt.show()\n",
    "\n",
    "\n",
    "(m,n)=y1.shape\n",
    "mean_mark=sum(y1[\"results\"])/m\n",
    "count1=0\n",
    "count2=0\n",
    "count3=0\n",
    "count4=0\n",
    "count5=0\n",
    "famrel=[[],[],[],[],[]]\n",
    "for i in range(m):\n",
    "    if x1['famrel'][i]==1:\n",
    "        famrel[0].append(y1['results'][i])\n",
    "        count1+=1\n",
    "    elif x1['famrel'][i]==2:\n",
    "        famrel[1].append(y1['results'][i])\n",
    "        count2+=1\n",
    "    elif x1['famrel'][i]==3:\n",
    "        famrel[2].append(y1['results'][i])\n",
    "        count3+=1\n",
    "    elif x1['famrel'][i]==4:\n",
    "        famrel[3].append(y1['results'][i])\n",
    "        count4+=1\n",
    "    else:\n",
    "        famrel[4].append(y1['results'][i])\n",
    "        count5+=1\n",
    "famrel=[sum(famrel[0])/(count1),sum(famrel[1])/count2,sum(famrel[2])/count3,sum(famrel[4])/count3,sum(famrel[4])/count5]\n",
    "print(\"mean marks of the students==\",mean_mark,\n",
    "      \"\\n mean mark of student whose family relationship is 1==\",famrel[0],\"\\n mean mark of student whose family relationship is 2==\",famrel[1]\n",
    "      ,\"\\n mean mark of student whose family relationship is 3==\",famrel[2],\"\\n mean mark of student whose family relationship is 4==\",famrel[3]\n",
    "      ,\"\\n mean mark of student whose family relationship is 5==\",famrel[4])\n",
    "plt.figure()\n",
    "plt.bar(['mean',\"famrel=1\",\"famrel=2\",\"famrel=3\",\"famrel=4\",\"famrel=5\"],[mean_mark]+famrel)\n",
    "plt.show()\n",
    "\n",
    "\n",
    "(m,n)=y2.shape\n",
    "mean_mark=sum(y2[\"results\"])/m\n",
    "count1=0\n",
    "count2=0\n",
    "count3=0\n",
    "count4=0\n",
    "count5=0\n",
    "famrel=[[],[],[],[],[]]\n",
    "for i in range(m):\n",
    "    if x2['famrel'][i]==1:\n",
    "        famrel[0].append(y2['results'][i])\n",
    "        count1+=1\n",
    "    elif x2['famrel'][i]==2:\n",
    "        famrel[1].append(y2['results'][i])\n",
    "        count2+=1\n",
    "    elif x2['famrel'][i]==3:\n",
    "        famrel[2].append(y2['results'][i])\n",
    "        count3+=1\n",
    "    elif x2['famrel'][i]==4:\n",
    "        famrel[3].append(y2['results'][i])\n",
    "        count4+=1\n",
    "    else:\n",
    "        famrel[4].append(y2['results'][i])\n",
    "        count5+=1\n",
    "famrel=[sum(famrel[0])/(count1),sum(famrel[1])/count2,sum(famrel[2])/count3,sum(famrel[4])/count3,sum(famrel[4])/count5]\n",
    "print(\"mean marks of the students==\",mean_mark,\n",
    "      \"\\n mean mark of student whose family relationship is 1==\",famrel[0],\"\\n mean mark of student whose family relationship is 2==\",famrel[1]\n",
    "      ,\"\\n mean mark of student whose family relationship is 3==\",famrel[2],\"\\n mean mark of student whose family relationship is 4==\",famrel[3]\n",
    "      ,\"\\n mean mark of student whose family relationship is 5==\",famrel[4])\n",
    "plt.figure()\n",
    "plt.bar(['mean',\"famrel=1\",\"famrel=2\",\"famrel=3\",\"famrel=4\",\"famrel=5\"],[mean_mark]+famrel)\n",
    "plt.show()\n"
   ]
  },
  {
   "cell_type": "code",
   "execution_count": 63,
   "metadata": {},
   "outputs": [
    {
     "name": "stderr",
     "output_type": "stream",
     "text": [
      "C:\\Users\\ujjal\\Anaconda3\\lib\\site-packages\\ipykernel_launcher.py:10: SettingWithCopyWarning: \n",
      "A value is trying to be set on a copy of a slice from a DataFrame.\n",
      "Try using .loc[row_indexer,col_indexer] = value instead\n",
      "\n",
      "See the caveats in the documentation: http://pandas.pydata.org/pandas-docs/stable/indexing.html#indexing-view-versus-copy\n",
      "  # Remove the CWD from sys.path while we load stuff.\n",
      "C:\\Users\\ujjal\\Anaconda3\\lib\\site-packages\\ipykernel_launcher.py:11: SettingWithCopyWarning: \n",
      "A value is trying to be set on a copy of a slice from a DataFrame.\n",
      "Try using .loc[row_indexer,col_indexer] = value instead\n",
      "\n",
      "See the caveats in the documentation: http://pandas.pydata.org/pandas-docs/stable/indexing.html#indexing-view-versus-copy\n",
      "  # This is added back by InteractiveShellApp.init_path()\n",
      "C:\\Users\\ujjal\\Anaconda3\\lib\\site-packages\\ipykernel_launcher.py:15: DataConversionWarning: A column-vector y was passed when a 1d array was expected. Please change the shape of y to (n_samples,), for example using ravel().\n",
      "  from ipykernel import kernelapp as app\n"
     ]
    },
    {
     "data": {
      "text/plain": [
       "0.0430622009569378"
      ]
     },
     "execution_count": 63,
     "metadata": {},
     "output_type": "execute_result"
    }
   ],
   "source": [
    "#now we get X and y for our model\n",
    "# now we have to import for \n",
    "from sklearn.ensemble import RandomForestClassifier\n",
    "from sklearn.model_selection import train_test_split\n",
    "from sklearn import metrics\n",
    "\n",
    "from sklearn.preprocessing import LabelEncoder\n",
    "obj=LabelEncoder()\n",
    "obj1=LabelEncoder()\n",
    "x['Pstatus']=obj.fit_transform(x[\"Pstatus\"])\n",
    "x['romantic']=obj1.fit_transform(x[\"romantic\"])\n",
    "\n",
    "X_train, X_test, y_train, y_test = train_test_split(x, y, test_size=0.20, random_state=42)\n",
    "forest = RandomForestClassifier(n_estimators = 100)\n",
    "forest = forest.fit(X_train, y_train)\n",
    "forest.score(X_train, y_train)\n",
    "y_pred = forest.predict(X_test)\n",
    "acc_test = metrics.accuracy_score(y_test,y_pred)\n",
    "acc_test"
   ]
  },
  {
   "cell_type": "code",
   "execution_count": 64,
   "metadata": {},
   "outputs": [
    {
     "name": "stdout",
     "output_type": "stream",
     "text": [
      "          importance\n",
      "feature             \n",
      "famrel         0.643\n",
      "Pstatus        0.183\n",
      "romantic       0.174\n"
     ]
    },
    {
     "data": {
      "text/plain": [
       "<matplotlib.axes._subplots.AxesSubplot at 0x201d3ac73c8>"
      ]
     },
     "execution_count": 64,
     "metadata": {},
     "output_type": "execute_result"
    },
    {
     "data": {
      "image/png": "[encoded data removed]",
      "text/plain": [
       "<matplotlib.figure.Figure at 0x201d3a5f5f8>"
      ]
     },
     "metadata": {},
     "output_type": "display_data"
    }
   ],
   "source": [
    "importances = pd.DataFrame({'feature':X_train.columns,'importance':np.round(forest.feature_importances_,3)})\n",
    "importances = importances.sort_values('importance',ascending=False).set_index('feature')\n",
    "print (importances)\n",
    "importances.plot.bar()"
   ]
  },
  {
   "cell_type": "code",
   "execution_count": null,
   "metadata": {},
   "outputs": [],
   "source": []
  },
  {
   "cell_type": "code",
   "execution_count": null,
   "metadata": {},
   "outputs": [],
   "source": []
  },
  {
   "cell_type": "code",
   "execution_count": null,
   "metadata": {},
   "outputs": [],
   "source": []
  },
  {
   "cell_type": "code",
   "execution_count": null,
   "metadata": {},
   "outputs": [],
   "source": []
  }
 ],
 "metadata": {
  "kernelspec": {
   "display_name": "Python 3",
   "language": "python",
   "name": "python3"
  },
  "language_info": {
   "codemirror_mode": {
    "name": "ipython",
    "version": 3
   },
   "file_extension": ".py",
   "mimetype": "text/x-python",
   "name": "python",
   "nbconvert_exporter": "python",
   "pygments_lexer": "ipython3",
   "version": "3.6.4"
  }
 },
 "nbformat": 4,
 "nbformat_minor": 2
}
